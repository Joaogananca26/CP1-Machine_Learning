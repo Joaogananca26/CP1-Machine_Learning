{
  "nbformat": 4,
  "nbformat_minor": 0,
  "metadata": {
    "colab": {
      "provenance": []
    },
    "kernelspec": {
      "name": "python3",
      "display_name": "Python 3"
    },
    "language_info": {
      "name": "python"
    }
  },
  "cells": [
    {
      "cell_type": "code",
      "source": [
        "import pandas as pd\n",
        "import numpy as np\n",
        "import matplotlib.pyplot as plt\n",
        "import matplotlib.dates as mdates\n",
        "import seaborn as sns\n",
        "from datetime import datetime"
      ],
      "metadata": {
        "id": "ghxEuQy9D_Mp"
      },
      "execution_count": null,
      "outputs": []
    },
    {
      "cell_type": "code",
      "execution_count": null,
      "metadata": {
        "collapsed": true,
        "id": "m6Za_oMADg03"
      },
      "outputs": [],
      "source": [
        "# ex 1\n",
        "dados_power = pd.read_csv('household_power_consumption.txt', sep=\";\", low_memory=False, na_values=['?'])\n",
        "dados_power.head(11)"
      ]
    },
    {
      "cell_type": "markdown",
      "source": [
        "# Ex 2\n",
        "\n",
        "## Global Active Power (Potência Ativa)\n",
        "É a potência real que efetivamente realiza trabalho útil, convertendo energia elétrica em outras formas de energia como luz, calor e movimento. Medida em kilowatts (kW), é a energia que acende lâmpadas, alimenta motores e aquece resistências. Esta é a potência que consumimos de fato e que aparece na nossa conta de luz.\n",
        "\n",
        "---\n",
        "\n",
        "## Global Reactive Power (Potência Reativa)\n",
        "É a potência necessária para criar e manter os campos magnéticos em equipamentos como motores e transformadores, mas que não realiza trabalho útil. Medida em kilovolt-ampere reativo (kVAR), essa energia oscila entre a carga e a fonte, sendo constantemente armazenada e devolvida ao sistema. Embora não produza trabalho real, é essencial para o funcionamento de muitos equipamentos elétricos."
      ],
      "metadata": {
        "id": "ZnI2dxqmGJyU"
      }
    },
    {
      "cell_type": "code",
      "source": [
        "# ex 3\n",
        "# Filtrar apenas colunas com valores ausentes\n",
        "valores_ausentes = dados_power.isnull().sum()\n",
        "colunas_com_ausentes = valores_ausentes[valores_ausentes > 0]\n",
        "\n",
        "print(\"Colunas com valores ausentes e suas quantidades:\")\n",
        "print(colunas_com_ausentes)\n",
        "\n",
        "print(\"\\nPercentual de valores ausentes nas colunas afetadas:\")\n",
        "percentual_ausentes = (colunas_com_ausentes / len(dados_power)) * 100\n",
        "print(percentual_ausentes.round(2))"
      ],
      "metadata": {
        "colab": {
          "base_uri": "https://localhost:8080/"
        },
        "collapsed": true,
        "id": "gWmqRZcfEDHP",
        "outputId": "ce6b5158-4379-468f-c2dd-16e66f8ca63f"
      },
      "execution_count": null,
      "outputs": [
        {
          "output_type": "stream",
          "name": "stdout",
          "text": [
            "Colunas com valores ausentes e suas quantidades:\n",
            "Global_active_power      25979\n",
            "Global_reactive_power    25979\n",
            "Voltage                  25979\n",
            "Global_intensity         25979\n",
            "Sub_metering_1           25979\n",
            "Sub_metering_2           25979\n",
            "Sub_metering_3           25979\n",
            "dtype: int64\n",
            "\n",
            "Percentual de valores ausentes nas colunas afetadas:\n",
            "Global_active_power      1.25\n",
            "Global_reactive_power    1.25\n",
            "Voltage                  1.25\n",
            "Global_intensity         1.25\n",
            "Sub_metering_1           1.25\n",
            "Sub_metering_2           1.25\n",
            "Sub_metering_3           1.25\n",
            "dtype: float64\n"
          ]
        }
      ]
    },
    {
      "cell_type": "code",
      "source": [
        "# Ex 4\n",
        "import pandas as pd\n",
        "\n",
        "dados_power['DateTime'] = pd.to_datetime(dados_power['Date'] + ' ' + dados_power['Time'], format='%d/%m/%Y %H:%M:%S')\n",
        "\n",
        "# Criar coluna com dia da semana (0=Segunda, 6=Domingo)\n",
        "dados_power['Dia_da_Semana'] = dados_power['DateTime'].dt.dayofweek\n",
        "\n",
        "# Criar coluna com nome do dia em português\n",
        "dados_power['Nome_Dia'] = dados_power['Dia_da_Semana'].map({\n",
        "    0: 'Segunda-feira',\n",
        "    1: 'Terça-feira',\n",
        "    2: 'Quarta-feira',\n",
        "    3: 'Quinta-feira',\n",
        "    4: 'Sexta-feira',\n",
        "    5: 'Sábado',\n",
        "    6: 'Domingo'\n",
        "})\n",
        "\n",
        "# Mostrar amostras de diferentes dias\n",
        "print(\"Amostras de diferentes dias da semana:\")\n",
        "print(dados_power[['Date', 'Time', 'DateTime', 'Dia_da_Semana', 'Nome_Dia']].drop_duplicates('Date').head(10))"
      ],
      "metadata": {
        "id": "AE2b-ge7GLBU"
      },
      "execution_count": null,
      "outputs": []
    },
    {
      "cell_type": "code",
      "source": [
        "# Ex 5\n",
        "\n",
        "# Converter Date para datetime\n",
        "dados_power['Date'] = pd.to_datetime(dados_power['Date'], format='%d/%m/%Y')\n",
        "\n",
        "# Converter Global_active_power para numérico\n",
        "dados_power['Global_active_power'] = pd.to_numeric(dados_power['Global_active_power'], errors='coerce')\n",
        "\n",
        "# Filtrar apenas registros de 2007\n",
        "dados_2007 = dados_power[dados_power['Date'].dt.year == 2007].copy()\n",
        "\n",
        "# Calcular média diária de consumo\n",
        "media_diaria = dados_2007.groupby('Date')['Global_active_power'].mean()\n",
        "\n",
        "# Mostrar resultado\n",
        "print(\"Média diária de Global_active_power em 2007:\")\n",
        "print(media_diaria.head(213))\n",
        "print(f\"\\nTotal de dias analisados: {len(media_diaria)}\")\n",
        "print(f\"Média geral de 2007: {media_diaria.mean():.3f} kW\")"
      ],
      "metadata": {
        "collapsed": true,
        "id": "xX8BvIt-HxJP"
      },
      "execution_count": null,
      "outputs": []
    },
    {
      "cell_type": "code",
      "source": [
        "# Exercício 6\n",
        "\n",
        "dados_power = pd.read_csv('household_power_consumption.txt',\n",
        "                 sep=';',\n",
        "                 na_values=['?'],\n",
        "                 usecols=['Date', 'Time', 'Global_active_power'],\n",
        "                 low_memory=False)\n",
        "\n",
        "dados_power = dados_power.dropna()\n",
        "\n",
        "dados_power['DateTime'] = pd.to_datetime(dados_power['Date'] + ' ' + dados_power['Time'], format='%d/%m/%Y %H:%M:%S')\n",
        "\n",
        "dados_power['Global_active_power'] = pd.to_numeric(dados_power['Global_active_power'], errors='coerce')\n",
        "\n",
        "dados_power = dados_power.dropna()\n",
        "\n",
        "print(f\"Período dos dados: {dados_power['DateTime'].min()} até {dados_power['DateTime'].max()}\")\n",
        "print(f\"Total de registros: {len(dados_power)}\")"
      ],
      "metadata": {
        "colab": {
          "base_uri": "https://localhost:8080/",
          "height": 211
        },
        "collapsed": true,
        "id": "3BCF6K4orBDH",
        "outputId": "085cc2db-068b-4d8a-edc9-3289bdb20d39"
      },
      "execution_count": 1,
      "outputs": [
        {
          "output_type": "error",
          "ename": "NameError",
          "evalue": "name 'pd' is not defined",
          "traceback": [
            "\u001b[0;31m---------------------------------------------------------------------------\u001b[0m",
            "\u001b[0;31mNameError\u001b[0m                                 Traceback (most recent call last)",
            "\u001b[0;32m/tmp/ipython-input-939714279.py\u001b[0m in \u001b[0;36m<cell line: 0>\u001b[0;34m()\u001b[0m\n\u001b[1;32m      1\u001b[0m \u001b[0;31m# Exercício 6\u001b[0m\u001b[0;34m\u001b[0m\u001b[0;34m\u001b[0m\u001b[0m\n\u001b[1;32m      2\u001b[0m \u001b[0;34m\u001b[0m\u001b[0m\n\u001b[0;32m----> 3\u001b[0;31m dados_power = pd.read_csv('household_power_consumption.txt',\n\u001b[0m\u001b[1;32m      4\u001b[0m                  \u001b[0msep\u001b[0m\u001b[0;34m=\u001b[0m\u001b[0;34m';'\u001b[0m\u001b[0;34m,\u001b[0m\u001b[0;34m\u001b[0m\u001b[0;34m\u001b[0m\u001b[0m\n\u001b[1;32m      5\u001b[0m                  \u001b[0mna_values\u001b[0m\u001b[0;34m=\u001b[0m\u001b[0;34m[\u001b[0m\u001b[0;34m'?'\u001b[0m\u001b[0;34m]\u001b[0m\u001b[0;34m,\u001b[0m\u001b[0;34m\u001b[0m\u001b[0;34m\u001b[0m\u001b[0m\n",
            "\u001b[0;31mNameError\u001b[0m: name 'pd' is not defined"
          ]
        }
      ]
    },
    {
      "cell_type": "code",
      "source": [
        "target_date = '2007-01-07'\n",
        "day_data = dados_power[dados_power['DateTime'].dados_power.date == pd.to_datetime(target_date).date()]\n",
        "\n",
        "print(f\"Dados para {target_date}: {len(day_data)} registros\")\n",
        "\n",
        "if len(day_data) > 0:\n",
        "\n",
        "    plt.figure(figsize=(15, 8))\n",
        "\n",
        "    plt.plot(day_data['DateTime'], day_data['Global_active_power'],\n",
        "             linewidth=1, color='blue', alpha=0.8)\n",
        "\n",
        "    plt.title(f'Variação do Global Active Power em {target_date}', fontsize=16, fontweight='bold')\n",
        "    plt.xlabel('Hora do Dia', fontsize=12)\n",
        "    plt.ylabel('Global Active Power (kilowatts)', fontsize=12)\n",
        "    plt.grid(True, alpha=0.3)\n",
        "\n",
        "    plt.gca().xaxis.set_major_formatter(mdates.DateFormatter('%H:%M'))\n",
        "    plt.gca().xaxis.set_major_locator(mdates.HourLocator(interval=2))\n",
        "    plt.xticks(rotation=45)\n",
        "\n",
        "    mean_power = day_data['Global_active_power'].mean()\n",
        "    plt.axhline(y=mean_power, color='red', linestyle='--', alpha=0.8,\n",
        "                label=f'Média do dia: {mean_power:.2f} kW')\n",
        "\n",
        "    plt.legend()\n",
        "    plt.tight_layout()\n",
        "    plt.show()\n",
        "\n",
        "    print(f\"\\nEstatísticas para {target_date}:\")\n",
        "    print(f\"Mínimo: {day_data['Global_active_power'].min():.3f} kW\")\n",
        "    print(f\"Máximo: {day_data['Global_active_power'].max():.3f} kW\")\n",
        "    print(f\"Média: {day_data['Global_active_power'].mean():.3f} kW\")\n",
        "    print(f\"Mediana: {day_data['Global_active_power'].median():.3f} kW\")\n",
        "\n",
        "else:\n",
        "    print(f\"Não há dados disponíveis para {target_date}\")"
      ],
      "metadata": {
        "id": "0XQAPrMXrMFb"
      },
      "execution_count": null,
      "outputs": []
    },
    {
      "cell_type": "code",
      "source": [
        "# Exercício 7\n",
        "dados_power = pd.read_csv('household_power_consumption.txt',\n",
        "                 sep=';',\n",
        "                 na_values=['?'],\n",
        "                 usecols=['Voltage'],\n",
        "                 low_memory=False)\n",
        "\n",
        "dados_power = dados_power.dropna()\n",
        "dados_power['Voltage'] = pd.to_numeric(dados_power['Voltage'], errors='coerce')\n",
        "dados_power = dados_power.dropna()\n",
        "\n",
        "print(f\"Total de registros de Voltage: {len(dados_power):,}\")\n",
        "print(\"\\nEstatísticas descritivas da Voltage:\")\n",
        "print(dados_power['Voltage'].describe())"
      ],
      "metadata": {
        "id": "-lr3HC_brOGR"
      },
      "execution_count": null,
      "outputs": []
    },
    {
      "cell_type": "code",
      "source": [
        "\n",
        "plt.style.use('default')\n",
        "fig, axes = plt.subplots(2, 2, figsize=(15, 12))\n",
        "\n",
        "axes[0, 0].hist(dados_power['Voltage'], bins=100, alpha=0.7, color='lightcoral', edgecolor='black', density=True)\n",
        "axes[0, 0].set_title('Distribuição da Tensão Elétrica (Voltage)', fontsize=14, fontweight='bold')\n",
        "axes[0, 0].set_xlabel('Tensão (Volts)')\n",
        "axes[0, 0].set_ylabel('Densidade')\n",
        "axes[0, 0].grid(True, alpha=0.3)\n",
        "\n",
        "mean_voltage = dados_power['Voltage'].mean()\n",
        "axes[0, 0].axvline(mean_voltage, color='red', linestyle='--', linewidth=2,\n",
        "                  label=f'Média: {mean_voltage:.2f} V')\n",
        "\n",
        "nominal_voltage = 236\n",
        "tolerance = 2.36  # ±1%\n",
        "axes[0, 0].axvline(nominal_voltage - tolerance, color='orange', linestyle=':', linewidth=2,\n",
        "                  label=f'236V ±1%: {nominal_voltage - tolerance:.1f} - {nominal_voltage + tolerance:.1f} V')\n",
        "axes[0, 0].axvline(nominal_voltage + tolerance, color='orange', linestyle=':', linewidth=2)\n",
        "axes[0, 0].axvline(nominal_voltage, color='green', linestyle='-', linewidth=1, alpha=0.7,\n",
        "                  label=f'Tensão Nominal: 236V')\n",
        "\n",
        "axes[0, 0].legend()\n",
        "\n",
        "axes[0, 1].boxplot(dados_power['Voltage'])\n",
        "axes[0, 1].set_title('Boxplot da Tensão Elétrica', fontsize=14, fontweight='bold')\n",
        "axes[0, 1].set_ylabel('Volts')\n",
        "axes[0, 1].grid(True, alpha=0.3)\n",
        "\n",
        "axes[1, 0].hist(dados_power['Voltage'], bins=150, alpha=0.7, color='lightseagreen', edgecolor='black', density=True)\n",
        "axes[1, 0].set_title('Distribuição da Tensão (Zoom na Região Principal)', fontsize=14, fontweight='bold')\n",
        "axes[1, 0].set_xlabel('Tensão (Volts)')\n",
        "axes[1, 0].set_ylabel('Densidade')\n",
        "axes[1, 0].set_xlim(230, 245)\n",
        "axes[1, 0].grid(True, alpha=0.3)\n",
        "axes[1, 0].axvline(mean_voltage, color='red', linestyle='--', linewidth=2)\n",
        "\n",
        "voltage_values = np.linspace(dados_power['Voltage'].min(), dados_power['Voltage'].max(), 1000)\n",
        "from scipy.stats import gaussian_kde\n",
        "kde = gaussian_kde(dados_power['Voltage'])\n",
        "axes[1, 1].plot(voltage_values, kde(voltage_values), color='purple', linewidth=2)\n",
        "axes[1, 1].fill_between(voltage_values, kde(voltage_values), alpha=0.3, color='purple')\n",
        "axes[1, 1].set_title('Função de Densidade de Probabilidade (KDE)', fontsize=14, fontweight='bold')\n",
        "axes[1, 1].set_xlabel('Tensão (Volts)')\n",
        "axes[1, 1].set_ylabel('Densidade')\n",
        "axes[1, 1].grid(True, alpha=0.3)\n",
        "axes[1, 1].axvline(mean_voltage, color='red', linestyle='--', linewidth=2)\n",
        "\n",
        "plt.tight_layout()\n",
        "plt.show()"
      ],
      "metadata": {
        "id": "L6tuwgmIrVTf"
      },
      "execution_count": null,
      "outputs": []
    },
    {
      "cell_type": "code",
      "source": [
        "# Exercício 8\n",
        "cols_to_use = ['Date', 'Time', 'Global_active_power']\n",
        "dados_power = pd.read_csv('household_power_consumption.txt',\n",
        "                 sep=';',\n",
        "                 na_values=['?'],\n",
        "                 usecols=cols_to_use,\n",
        "                 low_memory=False)\n",
        "\n",
        "dados_power = dados_power.dropna()\n",
        "\n",
        "dados_power['DateTime'] = pd.to_datetime(dados_power['Date'] + ' ' + dados_power['Time'], format='%d/%m/%Y %H:%M:%S')\n",
        "\n",
        "dados_power['Global_active_power'] = pd.to_numeric(dados_power['Global_active_power'], errors='coerce')\n",
        "dados_power = dados_power.dropna()\n",
        "\n",
        "print(f\"Período dos dados: {dados_power['DateTime'].min()} até {dados_power['DateTime'].max()}\")\n",
        "print(f\"Total de registros: {len(dados_power):,}\")\n",
        "\n"
      ],
      "metadata": {
        "id": "EFrjdUbYrX-J"
      },
      "execution_count": null,
      "outputs": []
    },
    {
      "cell_type": "code",
      "source": [
        "dados_power['Year'] = dados_power['DateTime'].dt.year\n",
        "dados_power['Month'] = dados_power['DateTime'].dt.month\n",
        "dados_power['YearMonth'] = dados_power['DateTime'].dt.to_period('M')\n",
        "\n",
        "dados_power['Energy_kWh_minute'] = dados_power['Global_active_power'] / 60\n",
        "\n",
        "monthly_consumption = dados_power.groupby('YearMonth').agg({\n",
        "    'Energy_kWh_minute': 'sum',\n",
        "    'DateTime': 'count'\n",
        "}).rename(columns={'Energy_kWh_minute': 'Total_Energy_kWh', 'DateTime': 'Record_Count'})\n",
        "\n",
        "monthly_consumption['Days_in_month'] = monthly_consumption.index.days_in_month\n",
        "monthly_consumption['Avg_Daily_Consumption_kWh'] = monthly_consumption['Total_Energy_kWh'] / monthly_consumption['Days_in_month']\n",
        "monthly_consumption['Avg_Monthly_Consumption_kWh'] = monthly_consumption['Total_Energy_kWh']\n",
        "\n",
        "print(\"Consumo Mensal:\")\n",
        "print(monthly_consumption[['Total_Energy_kWh', 'Avg_Daily_Consumption_kWh', 'Record_Count']].round(2))"
      ],
      "metadata": {
        "id": "sDAwcC4qraQO"
      },
      "execution_count": null,
      "outputs": []
    },
    {
      "cell_type": "code",
      "source": [
        "plt.style.use('default')\n",
        "fig, axes = plt.subplots(2, 2, figsize=(16, 12))\n",
        "\n",
        "axes[0, 0].plot(monthly_consumption.index.astype(str), monthly_consumption['Total_Energy_kWh'],\n",
        "                marker='o', linewidth=2, markersize=4, color='royalblue')\n",
        "axes[0, 0].set_title('Consumo Total de Energia por Mês', fontsize=14, fontweight='bold')\n",
        "axes[0, 0].set_xlabel('Mês/Ano')\n",
        "axes[0, 0].set_ylabel('Consumo Total (kWh)')\n",
        "axes[0, 0].tick_params(axis='x', rotation=45)\n",
        "axes[0, 0].grid(True, alpha=0.3)\n",
        "\n",
        "axes[0, 1].plot(monthly_consumption.index.astype(str), monthly_consumption['Avg_Daily_Consumption_kWh'],\n",
        "                marker='s', linewidth=2, markersize=4, color='crimson')\n",
        "axes[0, 1].set_title('Consumo Médio Diário por Mês', fontsize=14, fontweight='bold')\n",
        "axes[0, 1].set_xlabel('Mês/Ano')\n",
        "axes[0, 1].set_ylabel('Consumo Médio Diário (kWh)')\n",
        "axes[0, 1].tick_params(axis='x', rotation=45)\n",
        "axes[0, 1].grid(True, alpha=0.3)\n",
        "\n",
        "yearly_data = []\n",
        "years = sorted(dados_power['Year'].unique())\n",
        "for year in years:\n",
        "    yearly_data.append(monthly_consumption[monthly_consumption.index.year == year]['Total_Energy_kWh'])\n",
        "\n",
        "axes[1, 0].boxplot(yearly_data, labels=years)\n",
        "axes[1, 0].set_title('Distribuição do Consumo Mensal por Ano', fontsize=14, fontweight='bold')\n",
        "axes[1, 0].set_xlabel('Ano')\n",
        "axes[1, 0].set_ylabel('Consumo Mensal (kWh)')\n",
        "axes[1, 0].grid(True, alpha=0.3)\n",
        "\n",
        "monthly_avg = monthly_consumption.groupby(monthly_consumption.index.month).agg({\n",
        "    'Total_Energy_kWh': 'mean',\n",
        "    'Avg_Daily_Consumption_kWh': 'mean'\n",
        "})\n",
        "\n",
        "month_names = ['Jan', 'Fev', 'Mar', 'Abr', 'Mai', 'Jun',\n",
        "               'Jul', 'Ago', 'Set', 'Out', 'Nov', 'Dec']\n",
        "\n",
        "axes[1, 1].bar(month_names, monthly_avg['Total_Energy_kWh'],\n",
        "               color='lightgreen', alpha=0.7, edgecolor='darkgreen')\n",
        "axes[1, 1].set_title('Consumo Médio Mensal (Todos os Anos)', fontsize=14, fontweight='bold')\n",
        "axes[1, 1].set_xlabel('Mês')\n",
        "axes[1, 1].set_ylabel('Consumo Médio (kWh)')\n",
        "axes[1, 1].grid(True, alpha=0.3)\n",
        "\n",
        "plt.tight_layout()\n",
        "plt.show()"
      ],
      "metadata": {
        "id": "qNk70o-BrbsL"
      },
      "execution_count": null,
      "outputs": []
    },
    {
      "cell_type": "code",
      "source": [
        "# Exercício 9\n",
        "cols_to_use = ['Date', 'Time', 'Global_active_power']\n",
        "dados_power = pd.read_csv('household_power_consumption.txt',\n",
        "                 sep=';',\n",
        "                 na_values=['?'],\n",
        "                 usecols=cols_to_use,\n",
        "                 low_memory=False)\n",
        "\n",
        "dados_power = dados_power.dropna()\n",
        "\n",
        "dados_power['DateTime'] = pd.to_datetime(dados_power['Date'] + ' ' + dados_power['Time'], format='%d/%m/%Y %H:%M:%S')\n",
        "\n",
        "dados_power['Global_active_power'] = pd.to_numeric(dados_power['Global_active_power'], errors='coerce')\n",
        "dados_power = dados_power.dropna()\n",
        "\n",
        "print(f\"Período dos dados: {dados_power['DateTime'].min()} até {dados_power['DateTime'].max()}\")\n",
        "print(f\"Total de registros: {len(dados_power):,}\")"
      ],
      "metadata": {
        "id": "tveQaKw9rfuC"
      },
      "execution_count": null,
      "outputs": []
    },
    {
      "cell_type": "code",
      "source": [
        "dados_power['Date_only'] = dados_power['DateTime'].dt.date\n",
        "\n",
        "dados_power['Energy_kWh_minute'] = dados_power['Global_active_power'] / 60\n",
        "\n",
        "daily_consumption = dados_power.groupby('Date_only').agg({\n",
        "    'Energy_kWh_minute': 'sum',\n",
        "    'Global_active_power': ['mean', 'max', 'min'],\n",
        "    'DateTime': 'count'\n",
        "}).round(4)\n",
        "\n",
        "daily_consumption.columns = ['Total_Energy_kWh', 'Avg_Power_kW', 'Max_Power_kW', 'Min_Power_kW', 'Record_Count']\n",
        "\n",
        "daily_consumption_sorted = daily_consumption.sort_values('Total_Energy_kWh', ascending=False)\n",
        "\n",
        "print(\"Top 10 dias com maior consumo:\")\n",
        "print(daily_consumption_sorted.head(10))\n",
        "\n",
        "max_consumption_day = daily_consumption_sorted.iloc[0]\n",
        "max_consumption_date = daily_consumption_sorted.index[0]\n",
        "\n",
        "print(\"\\n\" + \"=\"*60)\n",
        "print(f\"📈 DIA COM MAIOR CONSUMO: {max_consumption_date}\")\n",
        "print(\"=\"*60)\n",
        "print(f\"Consumo Total: {max_consumption_day['Total_Energy_kWh']:.2f} kWh\")\n",
        "print(f\"Consumo Médio: {max_consumption_day['Avg_Power_kW']:.2f} kW\")\n",
        "print(f\"Pico Máximo: {max_consumption_day['Max_Power_kW']:.2f} kW\")\n",
        "print(f\"Mínimo: {max_consumption_day['Min_Power_kW']:.2f} kW\")\n",
        "print(f\"Registros no dia: {max_consumption_day['Record_Count']}\")"
      ],
      "metadata": {
        "id": "IIrTzRklri8_"
      },
      "execution_count": null,
      "outputs": []
    },
    {
      "cell_type": "code",
      "source": [
        "# Exercício 10\n",
        "cols_to_use = ['Date', 'Time', 'Global_active_power']\n",
        "dados_power = pd.read_csv('household_power_consumption.txt',\n",
        "                 sep=';',\n",
        "                 na_values=['?'],\n",
        "                 usecols=cols_to_use,\n",
        "                 low_memory=False)\n",
        "\n",
        "dados_power = dados_power.dropna()\n",
        "\n",
        "dados_power['DateTime'] = pd.to_datetime(dados_power['Date'] + ' ' + dados_power['Time'], format='%d/%m/%Y %H:%M:%S')\n",
        "\n",
        "dados_power['Global_active_power'] = pd.to_numeric(dados_power['Global_active_power'], errors='coerce')\n",
        "dados_power = dados_power.dropna()\n",
        "\n",
        "print(f\"Período dos dados: {dados_power['DateTime'].min()} até {dados_power['DateTime'].max()}\")\n",
        "print(f\"Total de registros: {len(dados_power):,}\")"
      ],
      "metadata": {
        "id": "bTq5no4urkDZ"
      },
      "execution_count": null,
      "outputs": []
    },
    {
      "cell_type": "code",
      "source": [
        "dados_power['Date_only'] = dados_power['DateTime'].dt.date\n",
        "dados_power['Day_of_week'] = dados_power['DateTime'].dt.dayofweek\n",
        "dados_power['Is_weekend'] = dados_power['Day_of_week'].isin([5, 6])\n",
        "dados_power['Hour'] = dados_power['DateTime'].dt.hour\n",
        "\n",
        "dados_power['Energy_kWh_minute'] = dados_power['Global_active_power'] / 60\n",
        "\n",
        "daily_consumption = dados_power.groupby(['Date_only', 'Is_weekend', 'Day_of_week']).agg({\n",
        "    'Energy_kWh_minute': 'sum',\n",
        "    'Global_active_power': ['mean', 'max', 'min'],\n",
        "    'DateTime': 'count'\n",
        "}).round(4)\n",
        "\n",
        "daily_consumption.columns = ['Total_Energy_kWh', 'Avg_Power_kW', 'Max_Power_kW', 'Min_Power_kW', 'Record_Count']\n",
        "daily_consumption = daily_consumption.reset_index()\n",
        "\n",
        "weekend_stats = daily_consumption[daily_consumption['Is_weekend'] == True]['Total_Energy_kWh'].describe()\n",
        "weekday_stats = daily_consumption[daily_consumption['Is_weekend'] == False]['Total_Energy_kWh'].describe()\n",
        "\n",
        "print(\"=\"*60)\n",
        "print(\"COMPARAÇÃO: DIAS DE SEMANA vs FINAIS DE SEMANA\")\n",
        "print(\"=\"*60)\n",
        "\n",
        "print(f\"\\n📊 ESTATÍSTICAS GERAIS:\")\n",
        "print(f\"Dias de semana analisados: {len(daily_consumption[daily_consumption['Is_weekend'] == False])}\")\n",
        "print(f\"Finais de semana analisados: {len(daily_consumption[daily_consumption['Is_weekend'] == True])}\")\n",
        "\n",
        "print(f\"\\n📍 CONSUMO DIÁRIO MÉDIO:\")\n",
        "print(f\"Dias de semana: {weekday_stats['mean']:.2f} kWh\")\n",
        "print(f\"Finais de semana: {weekend_stats['mean']:.2f} kWh\")\n",
        "print(f\"Diferença: {weekend_stats['mean'] - weekday_stats['mean']:.2f} kWh ({((weekend_stats['mean']/weekday_stats['mean'])-1)*100:.1f}%)\")\n",
        "\n",
        "from scipy.stats import ttest_ind\n",
        "\n",
        "weekday_data = daily_consumption[daily_consumption['Is_weekend'] == False]['Total_Energy_kWh']\n",
        "weekend_data = daily_consumption[daily_consumption['Is_weekend'] == True]['Total_Energy_kWh']\n",
        "\n",
        "t_stat, p_value = ttest_ind(weekday_data, weekend_data, equal_var=False)\n",
        "\n",
        "print(f\"\\n📈 TESTE ESTATÍSTICO (t-test):\")\n",
        "print(f\"Estatística t: {t_stat:.3f}\")\n",
        "print(f\"Valor-p: {p_value:.6f}\")\n",
        "print(f\"Significativo (p < 0.05): {'SIM' if p_value < 0.05 else 'NÃO'}\")"
      ],
      "metadata": {
        "id": "K9iHHTo4rmfA"
      },
      "execution_count": null,
      "outputs": []
    },
    {
      "cell_type": "code",
      "source": [
        "# Exercício 11\n",
        "df_somente_colunas_ex_11 = dados_power.drop(['Date','Time','Sub_metering_1','Sub_metering_2','Sub_metering_3'],axis=1)\n",
        "df_somente_colunas_ex_11.head()\n",
        "df_somente_colunas_ex_11 = df_somente_colunas_ex_11.apply(pd.to_numeric,errors='coerce')\n",
        "df_somente_colunas_ex_11.corr('pearson')"
      ],
      "metadata": {
        "id": "OihfI0Adr4aN"
      },
      "execution_count": null,
      "outputs": []
    },
    {
      "cell_type": "code",
      "source": [
        "# Exercício 12\n",
        "dados_power.head()\n",
        "colunas_numericas = [\"Global_active_power\", \"Global_reactive_power\",\n",
        "                     \"Voltage\", \"Global_intensity\",\n",
        "                     \"Sub_metering_1\", \"Sub_metering_2\", \"Sub_metering_3\"]\n",
        "\n",
        "dados_power[colunas_numericas] = dados_power[colunas_numericas].apply(pd.to_numeric, errors=\"coerce\")\n",
        "dados_power[\"Total_Sub_metering\"] = (\n",
        "    dados_power[\"Sub_metering_1\"] +\n",
        "    dados_power[\"Sub_metering_2\"] +\n",
        "    dados_power[\"Sub_metering_3\"]\n",
        ")\n",
        "dados_power.head()"
      ],
      "metadata": {
        "id": "YEdAUf3Ur-lD"
      },
      "execution_count": null,
      "outputs": []
    },
    {
      "cell_type": "code",
      "source": [
        "# Exercício 13\n",
        "dados_power['Date'] = pd.to_datetime(dados_power['Date'], format=\"%d/%m/%Y\")\n",
        "dados_power[\"Total_Sub_metering\"] = (\n",
        "    dados_power[\"Sub_metering_1\"] +\n",
        "    dados_power[\"Sub_metering_2\"] +\n",
        "    dados_power[\"Sub_metering_3\"]\n",
        ")\n",
        "\n",
        "dados_power[\"AnoMes\"] = dados_power[\"Date\"].dt.to_period(\"M\")\n",
        "\n",
        "media_mensal_gap = dados_power.groupby(\"AnoMes\")[\"Global_active_power\"].mean()\n",
        "\n",
        "\n",
        "media_mensal_tsm = dados_power.groupby(\"AnoMes\")[\"Total_Sub_metering\"].mean()\n",
        "\n",
        "comparacao = pd.DataFrame({\n",
        "    \"Media_Global_active_power\": media_mensal_gap,\n",
        "    \"Media_Total_Sub_metering\": media_mensal_tsm\n",
        "})\n",
        "\n",
        "resultado = comparacao[comparacao[\"Media_Total_Sub_metering\"] > comparacao[\"Media_Global_active_power\"]]\n",
        "\n",
        "print(f'meses que a média do total sub metering foi maior que a média do global active power \\n{resultado}')"
      ],
      "metadata": {
        "id": "UKq6WNE3sBCH"
      },
      "execution_count": null,
      "outputs": []
    },
    {
      "cell_type": "code",
      "source": [
        "# Exercício 14\n",
        "\n",
        "dados_power['Date'] = pd.to_datetime(dados_power['Date'], format=\"%d/%m/%Y\", errors=\"coerce\")\n",
        "\n",
        "dados_power['DateTime'] = pd.to_datetime(dados_power['Date'].astype(str) + \" \" + dados_power['Time'], errors=\"coerce\")\n",
        "\n",
        "dados_2008 = dados_power[dados_power['DateTime'].dt.year == 2008]\n",
        "\n",
        "plt.figure(figsize=(14,5))\n",
        "plt.plot(dados_2008['DateTime'], dados_2008['Voltage'], color=\"blue\", linewidth=0.5)\n",
        "\n",
        "plt.title(\"Série Temporal do Voltage - Ano de 2008\")\n",
        "plt.xlabel(\"Data\")\n",
        "plt.ylabel(\"Voltage (V)\")\n",
        "plt.grid(True, linestyle=\"--\", alpha=0.5)\n",
        "plt.show()\n"
      ],
      "metadata": {
        "id": "uKeIllessEIz"
      },
      "execution_count": null,
      "outputs": []
    },
    {
      "cell_type": "code",
      "source": [
        "# Patch mínimo p/ viabilizar as análises\n",
        "dados_power['Datetime'] = pd.to_datetime(dados_power['Date'] + ' ' + dados_power['Time'],\n",
        "                                         dayfirst=True, errors='coerce')\n",
        "num_cols = ['Global_active_power','Global_reactive_power','Voltage',\n",
        "            'Global_intensity','Sub_metering_1','Sub_metering_2','Sub_metering_3']\n",
        "dados_power[num_cols] = dados_power[num_cols].apply(pd.to_numeric, errors='coerce')\n",
        "dados_power = dados_power.set_index('Datetime').dropna(subset=['Global_active_power']).sort_index()\n",
        "\n",
        "# Exercício 15\n",
        "dados_power['month'] = dados_power.index.month\n",
        "summer = dados_power.loc[dados_power['month'].isin([6,7,8]), 'Global_active_power'].dropna()\n",
        "winter = dados_power.loc[dados_power['month'].isin([12,1,2]), 'Global_active_power'].dropna()\n",
        "print(\"15) Verão vs Inverno (HN)\")\n",
        "print(f\"Média GAP Verão (kW):  {summer.mean():.4f}\")\n",
        "print(f\"Média GAP Inverno (kW): {winter.mean():.4f}\")\n",
        "print(f\"Mediana GAP Verão (kW):  {summer.median():.4f}\")\n",
        "print(f\"Mediana GAP Inverno (kW): {winter.median():.4f}\")\n",
        "\n",
        "monthly_mean = dados_power['Global_active_power'].groupby([dados_power.index.year, dados_power.index.month]).mean()\n",
        "monthly_mean.index = pd.to_datetime([f\"{y}-{m:02d}-01\" for y,m in monthly_mean.index])\n",
        "\n",
        "plt.figure(figsize=(10,4))\n",
        "monthly_mean.plot()\n",
        "plt.title('Média Mensal de Global_active_power (kW)')\n",
        "plt.xlabel('Mês'); plt.ylabel('kW'); plt.tight_layout(); plt.show()\n",
        "\n",
        "plt.figure(figsize=(6,4))\n",
        "plt.boxplot([summer.values, winter.values], labels=['Verão(HN)','Inverno(HN)'])\n",
        "plt.title('Distribuição de Global_active_power — Verão vs Inverno (HN)')\n",
        "plt.ylabel('kW'); plt.tight_layout(); plt.show()"
      ],
      "metadata": {
        "id": "jDUQx9QJsP-f"
      },
      "execution_count": null,
      "outputs": []
    },
    {
      "cell_type": "code",
      "source": [
        "# Exercício 16\n",
        "full = dados_power['Global_active_power'].dropna()\n",
        "sample_1pct = full.sample(frac=0.01, random_state=42)\n",
        "stat, pval = ks_2samp(full.values, sample_1pct.values)\n",
        "print(\"\\n16) KS test (completa vs 1%)\")\n",
        "print(f\"KS stat: {stat:.4f} | p-value: {pval:.4e}  (p alto ⇒ distribuições semelhantes)\")\n",
        "\n",
        "plt.figure(figsize=(10,4))\n",
        "plt.hist(full.values, bins=80, alpha=0.5, density=True, label='Completa')\n",
        "plt.hist(sample_1pct.values, bins=80, alpha=0.5, density=True, label='Amostra 1%')\n",
        "plt.title('Distribuição de Global_active_power — Completa vs 1%')\n",
        "plt.xlabel('kW'); plt.ylabel('Densidade'); plt.legend(); plt.tight_layout(); plt.show()"
      ],
      "metadata": {
        "id": "bzjIAQt7sXN3"
      },
      "execution_count": null,
      "outputs": []
    },
    {
      "cell_type": "code",
      "source": [
        "# Exercício 17\n",
        "features = ['Global_active_power','Global_reactive_power','Voltage',\n",
        "            'Global_intensity','Sub_metering_1','Sub_metering_2','Sub_metering_3']\n",
        "dados_num = dados_power[features].dropna()\n",
        "scaler = MinMaxScaler()\n",
        "dados_scaled_vals = scaler.fit_transform(dados_num.values)\n",
        "dados_power_scaled = pd.DataFrame(dados_scaled_vals, columns=features, index=dados_num.index)\n",
        "print(\"\\n17) Min-Max (preview):\")\n",
        "print(dados_power_scaled.head())"
      ],
      "metadata": {
        "id": "xqQR2gTFsZoO"
      },
      "execution_count": null,
      "outputs": []
    },
    {
      "cell_type": "code",
      "source": [
        "# Exercício 18\n",
        "\n",
        "agg = {\n",
        "    'Global_active_power': ['mean','sum'],\n",
        "    'Global_reactive_power': 'mean',\n",
        "    'Voltage': 'mean',\n",
        "    'Global_intensity': 'mean',\n",
        "    'Sub_metering_1': 'sum',\n",
        "    'Sub_metering_2': 'sum',\n",
        "    'Sub_metering_3': 'sum'\n",
        "}\n",
        "diarios = dados_power.resample('D').agg(agg)\n",
        "diarios.columns = ['_'.join(c) if isinstance(c, tuple) else c for c in diarios.columns]\n",
        "diarios['energy_kWh'] = diarios['Global_active_power_sum'] * (1.0/60.0)\n",
        "diarios = diarios.dropna()\n",
        "\n",
        "cluster_features = ['Global_active_power_mean','Global_reactive_power_mean','Voltage_mean',\n",
        "                    'Global_intensity_mean','Sub_metering_1_sum','Sub_metering_2_sum',\n",
        "                    'Sub_metering_3_sum','energy_kWh']\n",
        "X = diarios[cluster_features].values\n",
        "scaler_days = MinMaxScaler()\n",
        "X_scaled = scaler_days.fit_transform(X)\n",
        "\n",
        "kmeans = KMeans(n_clusters=3, random_state=42, n_init=10)\n",
        "labels = kmeans.fit_predict(X_scaled)\n",
        "diarios['cluster'] = labels\n",
        "\n",
        "print(\"\\n18) K-means diário — tamanhos:\", diarios['cluster'].value_counts().sort_index().to_dict())\n",
        "centers_scaled = kmeans.cluster_centers_\n",
        "centers = scaler_days.inverse_transform(centers_scaled)\n",
        "centers_df = pd.DataFrame(centers, columns=cluster_features)\n",
        "centers_df['cluster'] = range(3)\n",
        "centers_df = centers_df.sort_values(by='energy_kWh').reset_index(drop=True)\n",
        "print(\"Centros (unidades originais):\")\n",
        "print(centers_df.round(3))\n",
        "\n",
        "plt.figure(figsize=(6,4))\n",
        "box_data = [diarios.loc[diarios['cluster']==i, 'energy_kWh'].values for i in sorted(diarios['cluster'].unique())]\n",
        "plt.boxplot(box_data, labels=[f'C{i}' for i in sorted(diarios[\"cluster\"].unique())])\n",
        "plt.title('Energia diária (kWh) por cluster'); plt.ylabel('kWh'); plt.tight_layout(); plt.show()"
      ],
      "metadata": {
        "id": "4RyaLWeSsbh0"
      },
      "execution_count": null,
      "outputs": []
    },
    {
      "cell_type": "code",
      "source": [
        "# Exercício 19\n",
        "gap_daily = dados_power['Global_active_power'].resample('D').mean().dropna()\n",
        "start = gap_daily.index.min().normalize()\n",
        "end = start + pd.DateOffset(months=6) - pd.DateOffset(days=1)\n",
        "if end > gap_daily.index.max():\n",
        "    end = gap_daily.index.max().normalize()\n",
        "    start = end - pd.DateOffset(months=6) + pd.DateOffset(days=1)\n",
        "gap_6m = gap_daily.loc[start:end].asfreq('D').interpolate()\n",
        "print(f\"\\n19) Janela 6m: {start.date()} → {end.date()}\")\n",
        "\n",
        "decomp = seasonal_decompose(gap_6m, model='additive', period=7)\n",
        "plt.figure(figsize=(10,3)); plt.plot(gap_6m); plt.title('Série Original (GAP diária)'); plt.tight_layout(); plt.show()\n",
        "plt.figure(figsize=(10,3)); plt.plot(decomp.trend); plt.title('Tendência'); plt.tight_layout(); plt.show()\n",
        "plt.figure(figsize=(10,3)); plt.plot(decomp.seasonal); plt.title('Sazonalidade (semanal)'); plt.tight_layout(); plt.show()\n",
        "plt.figure(figsize=(10,3)); plt.plot(decomp.resid); plt.title('Resíduo'); plt.tight_layout(); plt.show()\n",
        ""
      ],
      "metadata": {
        "id": "OI4ZVezpsjc6"
      },
      "execution_count": null,
      "outputs": []
    },
    {
      "cell_type": "code",
      "source": [
        "# Exercício 20\n",
        "df_xy = dados_power[['Global_active_power','Global_intensity']].dropna()\n",
        "X = df_xy[['Global_intensity']].values\n",
        "y = df_xy['Global_active_power'].values\n",
        "X_train, X_test, y_train, y_test = train_test_split(X, y, test_size=0.20, random_state=42)\n",
        "\n",
        "lr = LinearRegression().fit(X_train, y_train)\n",
        "y_pred = lr.predict(X_test)\n",
        "\n",
        "mae  = mean_absolute_error(y_test, y_pred)\n",
        "mse  = mean_squared_error(y_test, y_pred)\n",
        "rmse = np.sqrt(mse)\n",
        "r2   = r2_score(y_test, y_pred)\n",
        "mask_nonzero = y_test != 0\n",
        "mape = np.mean(np.abs((y_test[mask_nonzero]-y_pred[mask_nonzero]) / y_test[mask_nonzero]))*100\n",
        "\n",
        "res     = y_test - y_pred\n",
        "abs_err = np.abs(res)\n",
        "medae = np.median(abs_err); p90 = np.percentile(abs_err, 90); p95 = np.percentile(abs_err, 95)\n",
        "\n",
        "print(\"\\n20) Regressão: GAP ~ Global_intensity\")\n",
        "print(f\"MAE : {mae:.4f} | RMSE: {rmse:.4f} | R²: {r2:.4f} | MAPE: {mape:.2f}%\")\n",
        "print(f\"MedAE: {medae:.4f} | P90: {p90:.4f} | P95: {p95:.4f}\")\n",
        "print(f\"Coef.: {lr.coef_[0]:.6f} | Intercepto: {lr.intercept_:.6f}\")\n",
        "\n",
        "# ÚNICO gráfico: Real vs Previsto (com linha identidade)\n",
        "plt.figure(figsize=(6,6))\n",
        "n = min(5000, len(y_test))\n",
        "plt.scatter(y_test[:n], y_pred[:n], s=2)\n",
        "lo = min(y_test[:n].min(), y_pred[:n].min())\n",
        "hi = max(y_test[:n].max(), y_pred[:n].max())\n",
        "plt.plot([lo, hi], [lo, hi])\n",
        "plt.xlabel('Global_active_power (real)'); plt.ylabel('Global_active_power (previsto)')\n",
        "plt.title('Calibração: Real vs Previsto'); plt.tight_layout(); plt.show()\n",
        "\n",
        "# Testes textuais (sem gráficos)\n",
        "exog = sm.add_constant(X_test)\n",
        "bp_stat, bp_pval, _, _ = het_breuschpagan(res, exog)\n",
        "dw = durbin_watson(res)\n",
        "print(f\"Breusch–Pagan p-valor: {bp_pval:.4e} | Durbin–Watson: {dw:.3f}\")\n",
        "\n",
        "# Erro por decis de intensidade (tabela)\n",
        "test_df = pd.DataFrame({'gi': X_test.ravel(), 'ae': abs_err})\n",
        "bins = pd.qcut(test_df['gi'], q=10, duplicates='drop')\n",
        "by_bin = test_df.groupby(bins)['ae'].agg(count='count', mae_bin='mean', medae_bin='median',\n",
        "                                         p90_bin=lambda s: np.percentile(s,90))\n",
        "print(\"\\nErro por faixa de Global_intensity (decis):\")\n",
        "print(by_bin.round(4))"
      ],
      "metadata": {
        "id": "nZFbxwGdslP6"
      },
      "execution_count": null,
      "outputs": []
    }
  ]
}